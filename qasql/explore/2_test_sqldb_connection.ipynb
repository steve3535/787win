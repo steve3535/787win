{
 "cells": [
  {
   "cell_type": "code",
   "execution_count": 4,
   "metadata": {},
   "outputs": [],
   "source": [
    "from pyprojroot import here\n",
    "db_path = str(here(\"data\")) + \"/csv_xlsx_sqldb.db\""
   ]
  },
  {
   "cell_type": "code",
   "execution_count": 5,
   "metadata": {},
   "outputs": [
    {
     "name": "stdout",
     "output_type": "stream",
     "text": [
      "sqlite\n",
      "['cancer', 'diabetes', 'player']\n"
     ]
    },
    {
     "data": {
      "text/plain": [
       "\"[('KANKAM', 'JEFFREY', 233245358341, 'Y', '9/19/22 10:24 AM', 244, 'C', 2, 26, 6, 16, 14, 9, 11, 6, 11, 6, 5, 5, 6, 6, 3, 0, 0, 5, 5, 1, 1, 5, 0, 10, 0, 1, 15, 5, 3, 1, 4, 5, 5, 2, 2, 1, 0, 4, 0, 6, 5, 6, 4, 9, 2, 2, 1, 3, 0, 1, 0), ('IBRAHIM', 'FATIMATU', 233246661750, 'N', '9/19/22 10:24 AM', 4, 'E', 4, 0, 0, 0, 0, 0, 0, 0, 0, 0, 0, 0, 0, 0, 0, 0, 0, 0, 0, 0, 0, 0, 0, 0, 1, 0, 3, 0, 0, 0, 0, 0, 0, 0, 0, 0, 0, 0, 0, 0, 0, 0, 0, 0, 0, 0, 0, 0, 0, 0, 0), ('Yakah', 'Gifty', 233249636525, 'Y', '9/19/22 10:24 AM', 1, 'E', 4, 1, 0, 0, 0, 0, 0, 0, 0, 0, 0, 0, 0, 0, 0, 0, 0, 0, 0, 0, 0, 0, 0, 0, 0, 0, 0, 0, 0, 0, 0, 0, 0, 0, 0, 0, 0, 0, 0, 0, 0, 0, 0, 0, 0, 0, 0, 0, 0, 0, 0), ('Atanga', 'Kenneth', 233249980173, 'N', '9/19/22 10:24 AM', 1, 'E', 4, 1, 0, 0, 0, 0, 0, 0, 0, 0, 0, 0, 0, 0, 0, 0, 0, 0, 0, 0, 0, 0, 0, 0, 0, 0, 0, 0, 0, 0, 0, 0, 0, 0, 0, 0, 0, 0, 0, 0, 0, 0, 0, 0, 0, 0, 0, 0, 0, 0, 0), ('Gyan', 'Rosina', 233243540800, 'N', '9/19/22 10:24 AM', 267, 'D', 3, 11, 3, 10, 10, 10, 10, 10, 0, 10, 10, 10, 0, 11, 0, 3, 17, 8, 5, 5, 8, 5, 11, 0, 9, 9, 6, 6, 5, 6, 0, 6, 3, 0, 0, 3, 6, 9, 4, 4, 10, 3, 0, 0, 0, 8, 0, 0, 3, 0, 0), ('KANKAM', 'KWAME OSEI-POKU', 233201810054, 'Y', '9/19/22 10:24 AM', 12, 'E', 4, 1, 0, 3, 0, 0, 0, 0, 3, 0, 0, 0, 0, 0, 0, 0, 0, 0, 0, 0, 0, 0, 0, 0, 0, 0, 0, 0, 0, 0, 0, 0, 2, 2, 0, 0, 0, 0, 0, 0, 0, 0, 0, 0, 0, 1, 0, 0, 0, 0, 0), ('AYITEY', 'DANIEL EDEM KODJO', 233208561076, 'N', '9/19/22 10:24 AM', 3, 'E', 4, 3, 0, 0, 0, 0, 0, 0, 0, 0, 0, 0, 0, 0, 0, 0, 0, 0, 0, 0, 0, 0, 0, 0, 0, 0, 0, 0, 0, 0, 0, 0, 0, 0, 0, 0, 0, 0, 0, 0, 0, 0, 0, 0, 0, 0, 0, 0, 0, 0, 0), ('Kwakye', 'Godwin', 233242280462, 'Y', '9/19/22 10:24 AM', 10, 'E', 4, 0, 0, 0, 0, 0, 10, 0, 0, 0, 0, 0, 0, 0, 0, 0, 0, 0, 0, 0, 0, 0, 0, 0, 0, 0, 0, 0, 0, 0, 0, 0, 0, 0, 0, 0, 0, 0, 0, 0, 0, 0, 0, 0, 0, 0, 0, 0, 0, 0, 0), ('DOVI', 'AFI', 233599742122, 'N', '9/19/22 10:24 AM', 0, 'E', 4, 0, 0, 0, 0, 0, 0, 0, 0, 0, 0, 0, 0, 0, 0, 0, 0, 0, 0, 0, 0, 0, 0, 0, 0, 0, 0, 0, 0, 0, 0, 0, 0, 0, 0, 0, 0, 0, 0, 0, 0, 0, 0, 0, 0, 0, 0, 0, 0, 0, 0), ('Angmortey', 'William', 233555654805, 'Y', '9/19/22 10:24 AM', 1, 'E', 4, 1, 0, 0, 0, 0, 0, 0, 0, 0, 0, 0, 0, 0, 0, 0, 0, 0, 0, 0, 0, 0, 0, 0, 0, 0, 0, 0, 0, 0, 0, 0, 0, 0, 0, 0, 0, 0, 0, 0, 0, 0, 0, 0, 0, 0, 0, 0, 0, 0, 0)]\""
      ]
     },
     "execution_count": 5,
     "metadata": {},
     "output_type": "execute_result"
    }
   ],
   "source": [
    "from langchain_community.utilities import SQLDatabase\n",
    "db = SQLDatabase.from_uri(f\"sqlite:///{db_path}\")\n",
    "print(db.dialect)\n",
    "print(db.get_usable_table_names())\n",
    "db.run(\"SELECT * FROM player LIMIT 10;\")"
   ]
  },
  {
   "cell_type": "markdown",
   "metadata": {},
   "source": [
    "**Inspect the sql database**"
   ]
  },
  {
   "cell_type": "code",
   "execution_count": 9,
   "metadata": {},
   "outputs": [
    {
     "name": "stdout",
     "output_type": "stream",
     "text": [
      "Tables: ['Album', 'Artist', 'Customer', 'Employee', 'Genre', 'Invoice', 'InvoiceLine', 'MediaType', 'Playlist', 'PlaylistTrack', 'Track']\n",
      "Information for table: Album\n",
      "Schema: ['main']\n",
      "Column: AlbumId Type: INTEGER\n",
      "Column: Title Type: NVARCHAR(160)\n",
      "Column: ArtistId Type: INTEGER\n",
      "Primary Key Constraint: {'constrained_columns': ['AlbumId'], 'name': None}\n",
      "Foreign Keys: [{'name': None, 'constrained_columns': ['ArtistId'], 'referred_schema': None, 'referred_table': 'Artist', 'referred_columns': ['ArtistId'], 'options': {}}]\n",
      "Information for table: Artist\n",
      "Schema: ['main']\n",
      "Column: ArtistId Type: INTEGER\n",
      "Column: Name Type: NVARCHAR(120)\n",
      "Primary Key Constraint: {'constrained_columns': ['ArtistId'], 'name': None}\n",
      "Foreign Keys: []\n",
      "Information for table: Customer\n",
      "Schema: ['main']\n",
      "Column: CustomerId Type: INTEGER\n",
      "Column: FirstName Type: NVARCHAR(40)\n",
      "Column: LastName Type: NVARCHAR(20)\n",
      "Column: Company Type: NVARCHAR(80)\n",
      "Column: Address Type: NVARCHAR(70)\n",
      "Column: City Type: NVARCHAR(40)\n",
      "Column: State Type: NVARCHAR(40)\n",
      "Column: Country Type: NVARCHAR(40)\n",
      "Column: PostalCode Type: NVARCHAR(10)\n",
      "Column: Phone Type: NVARCHAR(24)\n",
      "Column: Fax Type: NVARCHAR(24)\n",
      "Column: Email Type: NVARCHAR(60)\n",
      "Column: SupportRepId Type: INTEGER\n",
      "Primary Key Constraint: {'constrained_columns': ['CustomerId'], 'name': None}\n",
      "Foreign Keys: [{'name': None, 'constrained_columns': ['SupportRepId'], 'referred_schema': None, 'referred_table': 'Employee', 'referred_columns': ['EmployeeId'], 'options': {}}]\n",
      "Information for table: Employee\n",
      "Schema: ['main']\n",
      "Column: EmployeeId Type: INTEGER\n",
      "Column: LastName Type: NVARCHAR(20)\n",
      "Column: FirstName Type: NVARCHAR(20)\n",
      "Column: Title Type: NVARCHAR(30)\n",
      "Column: ReportsTo Type: INTEGER\n",
      "Column: BirthDate Type: DATETIME\n",
      "Column: HireDate Type: DATETIME\n",
      "Column: Address Type: NVARCHAR(70)\n",
      "Column: City Type: NVARCHAR(40)\n",
      "Column: State Type: NVARCHAR(40)\n",
      "Column: Country Type: NVARCHAR(40)\n",
      "Column: PostalCode Type: NVARCHAR(10)\n",
      "Column: Phone Type: NVARCHAR(24)\n",
      "Column: Fax Type: NVARCHAR(24)\n",
      "Column: Email Type: NVARCHAR(60)\n",
      "Primary Key Constraint: {'constrained_columns': ['EmployeeId'], 'name': None}\n",
      "Foreign Keys: [{'name': None, 'constrained_columns': ['ReportsTo'], 'referred_schema': None, 'referred_table': 'Employee', 'referred_columns': ['EmployeeId'], 'options': {}}]\n",
      "Information for table: Genre\n",
      "Schema: ['main']\n",
      "Column: GenreId Type: INTEGER\n",
      "Column: Name Type: NVARCHAR(120)\n",
      "Primary Key Constraint: {'constrained_columns': ['GenreId'], 'name': None}\n",
      "Foreign Keys: []\n",
      "Information for table: Invoice\n",
      "Schema: ['main']\n",
      "Column: InvoiceId Type: INTEGER\n",
      "Column: CustomerId Type: INTEGER\n",
      "Column: InvoiceDate Type: DATETIME\n",
      "Column: BillingAddress Type: NVARCHAR(70)\n",
      "Column: BillingCity Type: NVARCHAR(40)\n",
      "Column: BillingState Type: NVARCHAR(40)\n",
      "Column: BillingCountry Type: NVARCHAR(40)\n",
      "Column: BillingPostalCode Type: NVARCHAR(10)\n",
      "Column: Total Type: NUMERIC(10, 2)\n",
      "Primary Key Constraint: {'constrained_columns': ['InvoiceId'], 'name': None}\n",
      "Foreign Keys: [{'name': None, 'constrained_columns': ['CustomerId'], 'referred_schema': None, 'referred_table': 'Customer', 'referred_columns': ['CustomerId'], 'options': {}}]\n",
      "Information for table: InvoiceLine\n",
      "Schema: ['main']\n",
      "Column: InvoiceLineId Type: INTEGER\n",
      "Column: InvoiceId Type: INTEGER\n",
      "Column: TrackId Type: INTEGER\n",
      "Column: UnitPrice Type: NUMERIC(10, 2)\n",
      "Column: Quantity Type: INTEGER\n",
      "Primary Key Constraint: {'constrained_columns': ['InvoiceLineId'], 'name': None}\n",
      "Foreign Keys: [{'name': None, 'constrained_columns': ['TrackId'], 'referred_schema': None, 'referred_table': 'Track', 'referred_columns': ['TrackId'], 'options': {}}, {'name': None, 'constrained_columns': ['InvoiceId'], 'referred_schema': None, 'referred_table': 'Invoice', 'referred_columns': ['InvoiceId'], 'options': {}}]\n",
      "Information for table: MediaType\n",
      "Schema: ['main']\n",
      "Column: MediaTypeId Type: INTEGER\n",
      "Column: Name Type: NVARCHAR(120)\n",
      "Primary Key Constraint: {'constrained_columns': ['MediaTypeId'], 'name': None}\n",
      "Foreign Keys: []\n",
      "Information for table: Playlist\n",
      "Schema: ['main']\n",
      "Column: PlaylistId Type: INTEGER\n",
      "Column: Name Type: NVARCHAR(120)\n",
      "Primary Key Constraint: {'constrained_columns': ['PlaylistId'], 'name': None}\n",
      "Foreign Keys: []\n",
      "Information for table: PlaylistTrack\n",
      "Schema: ['main']\n",
      "Column: PlaylistId Type: INTEGER\n",
      "Column: TrackId Type: INTEGER\n",
      "Primary Key Constraint: {'constrained_columns': ['PlaylistId', 'TrackId'], 'name': None}\n",
      "Foreign Keys: [{'name': None, 'constrained_columns': ['TrackId'], 'referred_schema': None, 'referred_table': 'Track', 'referred_columns': ['TrackId'], 'options': {}}, {'name': None, 'constrained_columns': ['PlaylistId'], 'referred_schema': None, 'referred_table': 'Playlist', 'referred_columns': ['PlaylistId'], 'options': {}}]\n",
      "Information for table: Track\n",
      "Schema: ['main']\n",
      "Column: TrackId Type: INTEGER\n",
      "Column: Name Type: NVARCHAR(200)\n",
      "Column: AlbumId Type: INTEGER\n",
      "Column: MediaTypeId Type: INTEGER\n",
      "Column: GenreId Type: INTEGER\n",
      "Column: Composer Type: NVARCHAR(220)\n",
      "Column: Milliseconds Type: INTEGER\n",
      "Column: Bytes Type: INTEGER\n",
      "Column: UnitPrice Type: NUMERIC(10, 2)\n",
      "Primary Key Constraint: {'constrained_columns': ['TrackId'], 'name': None}\n",
      "Foreign Keys: [{'name': None, 'constrained_columns': ['MediaTypeId'], 'referred_schema': None, 'referred_table': 'MediaType', 'referred_columns': ['MediaTypeId'], 'options': {}}, {'name': None, 'constrained_columns': ['GenreId'], 'referred_schema': None, 'referred_table': 'Genre', 'referred_columns': ['GenreId'], 'options': {}}, {'name': None, 'constrained_columns': ['AlbumId'], 'referred_schema': None, 'referred_table': 'Album', 'referred_columns': ['AlbumId'], 'options': {}}]\n"
     ]
    }
   ],
   "source": [
    "from sqlalchemy import create_engine, inspect\n",
    "\n",
    "# Create an engine that connects to the test.db SQLite database\n",
    "engine = create_engine(f\"sqlite:///{db_path}\")\n",
    "\n",
    "# Connect to the database\n",
    "connection = engine.connect()\n",
    "\n",
    "# Create an inspector object\n",
    "inspector = inspect(engine)\n",
    "\n",
    "# Retrieve the names of all the tables in the database\n",
    "table_names = inspector.get_table_names()\n",
    "print(\"Tables:\", table_names)\n",
    "\n",
    "# Loop over each table to get detailed information like schema, columns, etc.\n",
    "for table_name in table_names:\n",
    "    print(f\"Information for table: {table_name}\")\n",
    "    \n",
    "    # Get the schema of the table (for SQLite, schema is often None)\n",
    "    print(f\"Schema: {inspector.get_schema_names()}\")\n",
    "    \n",
    "    # Get the columns and their attributes for each table\n",
    "    columns = inspector.get_columns(table_name)\n",
    "    for column in columns:\n",
    "        print(f\"Column: {column['name']} Type: {column['type']}\")\n",
    "    \n",
    "    # Additionally, you can use get_pk_constraint and get_foreign_keys \n",
    "    # methods to retrieve information about primary and foreign keys respectively\n",
    "    pk_constraint = inspector.get_pk_constraint(table_name)\n",
    "    print(f\"Primary Key Constraint: {pk_constraint}\")\n",
    "\n",
    "    foreign_keys = inspector.get_foreign_keys(table_name)\n",
    "    print(f\"Foreign Keys: {foreign_keys}\")\n",
    "\n",
    "# Do not forget to close the connection when done\n",
    "connection.close()"
   ]
  },
  {
   "cell_type": "code",
   "execution_count": 6,
   "metadata": {},
   "outputs": [
    {
     "data": {
      "text/plain": [
       "<sqlalchemy.engine.reflection.Inspector at 0x1cbbc0646d0>"
      ]
     },
     "execution_count": 6,
     "metadata": {},
     "output_type": "execute_result"
    }
   ],
   "source": []
  }
 ],
 "metadata": {
  "kernelspec": {
   "display_name": "sql-rag-gpt",
   "language": "python",
   "name": "python3"
  },
  "language_info": {
   "codemirror_mode": {
    "name": "ipython",
    "version": 3
   },
   "file_extension": ".py",
   "mimetype": "text/x-python",
   "name": "python",
   "nbconvert_exporter": "python",
   "pygments_lexer": "ipython3",
   "version": "3.12.4"
  }
 },
 "nbformat": 4,
 "nbformat_minor": 2
}
