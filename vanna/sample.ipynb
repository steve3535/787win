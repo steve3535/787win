{
 "cells": [
  {
   "cell_type": "code",
   "execution_count": null,
   "metadata": {},
   "outputs": [],
   "source": [
    "!pip install vanna\n",
    "\n",
    "from vanna.remote import VannaDefault\n",
    "vn = VannaDefault(model='chinook', api_key='c267726a145a40db894425294a0d7fee')\n",
    "vn.connect_to_sqlite('https://vanna.ai/Chinook.sqlite')\n",
    "vn.ask('What are the top 10 artists by sales?')\n",
    "\n",
    "from vanna.flask import VannaFlaskApp\n",
    "VannaFlaskApp(vn).run()\n"
   ]
  },
  {
   "cell_type": "code",
   "execution_count": 4,
   "metadata": {},
   "outputs": [
    {
     "name": "stdout",
     "output_type": "stream",
     "text": [
      "Requirement already satisfied: vanna in /home/steve/projects/787win/env/lib/python3.12/site-packages (0.6.6)\n",
      "Requirement already satisfied: requests in /home/steve/projects/787win/env/lib/python3.12/site-packages (from vanna) (2.32.3)\n",
      "Requirement already satisfied: tabulate in /home/steve/projects/787win/env/lib/python3.12/site-packages (from vanna) (0.9.0)\n",
      "Requirement already satisfied: plotly in /home/steve/projects/787win/env/lib/python3.12/site-packages (from vanna) (5.23.0)\n",
      "Requirement already satisfied: pandas in /home/steve/projects/787win/env/lib/python3.12/site-packages (from vanna) (2.2.2)\n",
      "Requirement already satisfied: sqlparse in /home/steve/projects/787win/env/lib/python3.12/site-packages (from vanna) (0.5.1)\n",
      "Requirement already satisfied: kaleido in /home/steve/projects/787win/env/lib/python3.12/site-packages (from vanna) (0.2.1)\n",
      "Requirement already satisfied: flask in /home/steve/projects/787win/env/lib/python3.12/site-packages (from vanna) (3.0.3)\n",
      "Requirement already satisfied: flask-sock in /home/steve/projects/787win/env/lib/python3.12/site-packages (from vanna) (0.7.0)\n",
      "Requirement already satisfied: flasgger in /home/steve/projects/787win/env/lib/python3.12/site-packages (from vanna) (0.9.7.1)\n",
      "Requirement already satisfied: sqlalchemy in /home/steve/projects/787win/env/lib/python3.12/site-packages (from vanna) (2.0.32)\n",
      "Requirement already satisfied: PyYAML>=3.0 in /home/steve/projects/787win/env/lib/python3.12/site-packages (from flasgger->vanna) (6.0.2)\n",
      "Requirement already satisfied: jsonschema>=3.0.1 in /home/steve/projects/787win/env/lib/python3.12/site-packages (from flasgger->vanna) (4.23.0)\n",
      "Requirement already satisfied: mistune in /home/steve/projects/787win/env/lib/python3.12/site-packages (from flasgger->vanna) (3.0.2)\n",
      "Requirement already satisfied: six>=1.10.0 in /home/steve/projects/787win/env/lib/python3.12/site-packages (from flasgger->vanna) (1.16.0)\n",
      "Requirement already satisfied: packaging in /home/steve/projects/787win/env/lib/python3.12/site-packages (from flasgger->vanna) (24.1)\n",
      "Requirement already satisfied: Werkzeug>=3.0.0 in /home/steve/projects/787win/env/lib/python3.12/site-packages (from flask->vanna) (3.0.3)\n",
      "Requirement already satisfied: Jinja2>=3.1.2 in /home/steve/projects/787win/env/lib/python3.12/site-packages (from flask->vanna) (3.1.4)\n",
      "Requirement already satisfied: itsdangerous>=2.1.2 in /home/steve/projects/787win/env/lib/python3.12/site-packages (from flask->vanna) (2.2.0)\n",
      "Requirement already satisfied: click>=8.1.3 in /home/steve/projects/787win/env/lib/python3.12/site-packages (from flask->vanna) (8.1.7)\n",
      "Requirement already satisfied: blinker>=1.6.2 in /home/steve/projects/787win/env/lib/python3.12/site-packages (from flask->vanna) (1.8.2)\n",
      "Requirement already satisfied: simple-websocket>=0.5.1 in /home/steve/projects/787win/env/lib/python3.12/site-packages (from flask-sock->vanna) (1.0.0)\n",
      "Requirement already satisfied: numpy>=1.26.0 in /home/steve/projects/787win/env/lib/python3.12/site-packages (from pandas->vanna) (1.26.4)\n",
      "Requirement already satisfied: python-dateutil>=2.8.2 in /home/steve/projects/787win/env/lib/python3.12/site-packages (from pandas->vanna) (2.9.0.post0)\n",
      "Requirement already satisfied: pytz>=2020.1 in /home/steve/projects/787win/env/lib/python3.12/site-packages (from pandas->vanna) (2024.1)\n",
      "Requirement already satisfied: tzdata>=2022.7 in /home/steve/projects/787win/env/lib/python3.12/site-packages (from pandas->vanna) (2024.1)\n",
      "Requirement already satisfied: tenacity>=6.2.0 in /home/steve/projects/787win/env/lib/python3.12/site-packages (from plotly->vanna) (8.5.0)\n",
      "Requirement already satisfied: charset-normalizer<4,>=2 in /home/steve/projects/787win/env/lib/python3.12/site-packages (from requests->vanna) (3.3.2)\n",
      "Requirement already satisfied: idna<4,>=2.5 in /home/steve/projects/787win/env/lib/python3.12/site-packages (from requests->vanna) (3.7)\n",
      "Requirement already satisfied: urllib3<3,>=1.21.1 in /home/steve/projects/787win/env/lib/python3.12/site-packages (from requests->vanna) (2.2.2)\n",
      "Requirement already satisfied: certifi>=2017.4.17 in /home/steve/projects/787win/env/lib/python3.12/site-packages (from requests->vanna) (2024.7.4)\n",
      "Requirement already satisfied: typing-extensions>=4.6.0 in /home/steve/projects/787win/env/lib/python3.12/site-packages (from sqlalchemy->vanna) (4.12.2)\n",
      "Requirement already satisfied: greenlet!=0.4.17 in /home/steve/projects/787win/env/lib/python3.12/site-packages (from sqlalchemy->vanna) (3.0.3)\n",
      "Requirement already satisfied: MarkupSafe>=2.0 in /home/steve/projects/787win/env/lib/python3.12/site-packages (from Jinja2>=3.1.2->flask->vanna) (2.1.5)\n",
      "Requirement already satisfied: attrs>=22.2.0 in /home/steve/projects/787win/env/lib/python3.12/site-packages (from jsonschema>=3.0.1->flasgger->vanna) (24.2.0)\n",
      "Requirement already satisfied: jsonschema-specifications>=2023.03.6 in /home/steve/projects/787win/env/lib/python3.12/site-packages (from jsonschema>=3.0.1->flasgger->vanna) (2023.12.1)\n",
      "Requirement already satisfied: referencing>=0.28.4 in /home/steve/projects/787win/env/lib/python3.12/site-packages (from jsonschema>=3.0.1->flasgger->vanna) (0.35.1)\n",
      "Requirement already satisfied: rpds-py>=0.7.1 in /home/steve/projects/787win/env/lib/python3.12/site-packages (from jsonschema>=3.0.1->flasgger->vanna) (0.20.0)\n",
      "Requirement already satisfied: wsproto in /home/steve/projects/787win/env/lib/python3.12/site-packages (from simple-websocket>=0.5.1->flask-sock->vanna) (1.2.0)\n",
      "Requirement already satisfied: h11<1,>=0.9.0 in /home/steve/projects/787win/env/lib/python3.12/site-packages (from wsproto->simple-websocket>=0.5.1->flask-sock->vanna) (0.14.0)\n",
      "\n",
      "\u001b[1m[\u001b[0m\u001b[34;49mnotice\u001b[0m\u001b[1;39;49m]\u001b[0m\u001b[39;49m A new release of pip is available: \u001b[0m\u001b[31;49m24.0\u001b[0m\u001b[39;49m -> \u001b[0m\u001b[32;49m24.2\u001b[0m\n",
      "\u001b[1m[\u001b[0m\u001b[34;49mnotice\u001b[0m\u001b[1;39;49m]\u001b[0m\u001b[39;49m To update, run: \u001b[0m\u001b[32;49mpip install --upgrade pip\u001b[0m\n"
     ]
    },
    {
     "ename": "InvalidSchema",
     "evalue": "No connection adapters were found for 'file:///home/steve/projects/787win/crewai/data/players.db'",
     "output_type": "error",
     "traceback": [
      "\u001b[0;31m---------------------------------------------------------------------------\u001b[0m",
      "\u001b[0;31mInvalidSchema\u001b[0m                             Traceback (most recent call last)",
      "Cell \u001b[0;32mIn[4], line 5\u001b[0m\n\u001b[1;32m      3\u001b[0m \u001b[38;5;28;01mfrom\u001b[39;00m \u001b[38;5;21;01mvanna\u001b[39;00m\u001b[38;5;21;01m.\u001b[39;00m\u001b[38;5;21;01mremote\u001b[39;00m \u001b[38;5;28;01mimport\u001b[39;00m VannaDefault\n\u001b[1;32m      4\u001b[0m vn \u001b[38;5;241m=\u001b[39m VannaDefault(model\u001b[38;5;241m=\u001b[39m\u001b[38;5;124m'\u001b[39m\u001b[38;5;124mkwakmodel\u001b[39m\u001b[38;5;124m'\u001b[39m, api_key\u001b[38;5;241m=\u001b[39m\u001b[38;5;124m'\u001b[39m\u001b[38;5;124mc267726a145a40db894425294a0d7fee\u001b[39m\u001b[38;5;124m'\u001b[39m)\n\u001b[0;32m----> 5\u001b[0m \u001b[43mvn\u001b[49m\u001b[38;5;241;43m.\u001b[39;49m\u001b[43mconnect_to_sqlite\u001b[49m\u001b[43m(\u001b[49m\u001b[38;5;124;43m'\u001b[39;49m\u001b[38;5;124;43mfile:///home/steve/projects/787win/crewai/data/players.db\u001b[39;49m\u001b[38;5;124;43m'\u001b[39;49m\u001b[43m)\u001b[49m \u001b[38;5;66;03m# Connect to your database here\u001b[39;00m\n\u001b[1;32m      7\u001b[0m \u001b[38;5;28;01mfrom\u001b[39;00m \u001b[38;5;21;01mvanna\u001b[39;00m\u001b[38;5;21;01m.\u001b[39;00m\u001b[38;5;21;01mflask\u001b[39;00m \u001b[38;5;28;01mimport\u001b[39;00m VannaFlaskApp\n\u001b[1;32m      8\u001b[0m VannaFlaskApp(vn)\u001b[38;5;241m.\u001b[39mrun()\n",
      "File \u001b[0;32m~/projects/787win/env/lib/python3.12/site-packages/vanna/base/base.py:814\u001b[0m, in \u001b[0;36mVannaBase.connect_to_sqlite\u001b[0;34m(self, url, check_same_thread, **kwargs)\u001b[0m\n\u001b[1;32m    812\u001b[0m \u001b[38;5;66;03m# Download the database if it doesn't exist\u001b[39;00m\n\u001b[1;32m    813\u001b[0m \u001b[38;5;28;01mif\u001b[39;00m \u001b[38;5;129;01mnot\u001b[39;00m os\u001b[38;5;241m.\u001b[39mpath\u001b[38;5;241m.\u001b[39mexists(url):\n\u001b[0;32m--> 814\u001b[0m     response \u001b[38;5;241m=\u001b[39m \u001b[43mrequests\u001b[49m\u001b[38;5;241;43m.\u001b[39;49m\u001b[43mget\u001b[49m\u001b[43m(\u001b[49m\u001b[43murl\u001b[49m\u001b[43m)\u001b[49m\n\u001b[1;32m    815\u001b[0m     response\u001b[38;5;241m.\u001b[39mraise_for_status()  \u001b[38;5;66;03m# Check that the request was successful\u001b[39;00m\n\u001b[1;32m    816\u001b[0m     \u001b[38;5;28;01mwith\u001b[39;00m \u001b[38;5;28mopen\u001b[39m(path, \u001b[38;5;124m\"\u001b[39m\u001b[38;5;124mwb\u001b[39m\u001b[38;5;124m\"\u001b[39m) \u001b[38;5;28;01mas\u001b[39;00m f:\n",
      "File \u001b[0;32m~/projects/787win/env/lib/python3.12/site-packages/requests/api.py:73\u001b[0m, in \u001b[0;36mget\u001b[0;34m(url, params, **kwargs)\u001b[0m\n\u001b[1;32m     62\u001b[0m \u001b[38;5;28;01mdef\u001b[39;00m \u001b[38;5;21mget\u001b[39m(url, params\u001b[38;5;241m=\u001b[39m\u001b[38;5;28;01mNone\u001b[39;00m, \u001b[38;5;241m*\u001b[39m\u001b[38;5;241m*\u001b[39mkwargs):\n\u001b[1;32m     63\u001b[0m \u001b[38;5;250m    \u001b[39m\u001b[38;5;124mr\u001b[39m\u001b[38;5;124;03m\"\"\"Sends a GET request.\u001b[39;00m\n\u001b[1;32m     64\u001b[0m \n\u001b[1;32m     65\u001b[0m \u001b[38;5;124;03m    :param url: URL for the new :class:`Request` object.\u001b[39;00m\n\u001b[0;32m   (...)\u001b[0m\n\u001b[1;32m     70\u001b[0m \u001b[38;5;124;03m    :rtype: requests.Response\u001b[39;00m\n\u001b[1;32m     71\u001b[0m \u001b[38;5;124;03m    \"\"\"\u001b[39;00m\n\u001b[0;32m---> 73\u001b[0m     \u001b[38;5;28;01mreturn\u001b[39;00m \u001b[43mrequest\u001b[49m\u001b[43m(\u001b[49m\u001b[38;5;124;43m\"\u001b[39;49m\u001b[38;5;124;43mget\u001b[39;49m\u001b[38;5;124;43m\"\u001b[39;49m\u001b[43m,\u001b[49m\u001b[43m \u001b[49m\u001b[43murl\u001b[49m\u001b[43m,\u001b[49m\u001b[43m \u001b[49m\u001b[43mparams\u001b[49m\u001b[38;5;241;43m=\u001b[39;49m\u001b[43mparams\u001b[49m\u001b[43m,\u001b[49m\u001b[43m \u001b[49m\u001b[38;5;241;43m*\u001b[39;49m\u001b[38;5;241;43m*\u001b[39;49m\u001b[43mkwargs\u001b[49m\u001b[43m)\u001b[49m\n",
      "File \u001b[0;32m~/projects/787win/env/lib/python3.12/site-packages/requests/api.py:59\u001b[0m, in \u001b[0;36mrequest\u001b[0;34m(method, url, **kwargs)\u001b[0m\n\u001b[1;32m     55\u001b[0m \u001b[38;5;66;03m# By using the 'with' statement we are sure the session is closed, thus we\u001b[39;00m\n\u001b[1;32m     56\u001b[0m \u001b[38;5;66;03m# avoid leaving sockets open which can trigger a ResourceWarning in some\u001b[39;00m\n\u001b[1;32m     57\u001b[0m \u001b[38;5;66;03m# cases, and look like a memory leak in others.\u001b[39;00m\n\u001b[1;32m     58\u001b[0m \u001b[38;5;28;01mwith\u001b[39;00m sessions\u001b[38;5;241m.\u001b[39mSession() \u001b[38;5;28;01mas\u001b[39;00m session:\n\u001b[0;32m---> 59\u001b[0m     \u001b[38;5;28;01mreturn\u001b[39;00m \u001b[43msession\u001b[49m\u001b[38;5;241;43m.\u001b[39;49m\u001b[43mrequest\u001b[49m\u001b[43m(\u001b[49m\u001b[43mmethod\u001b[49m\u001b[38;5;241;43m=\u001b[39;49m\u001b[43mmethod\u001b[49m\u001b[43m,\u001b[49m\u001b[43m \u001b[49m\u001b[43murl\u001b[49m\u001b[38;5;241;43m=\u001b[39;49m\u001b[43murl\u001b[49m\u001b[43m,\u001b[49m\u001b[43m \u001b[49m\u001b[38;5;241;43m*\u001b[39;49m\u001b[38;5;241;43m*\u001b[39;49m\u001b[43mkwargs\u001b[49m\u001b[43m)\u001b[49m\n",
      "File \u001b[0;32m~/projects/787win/env/lib/python3.12/site-packages/requests/sessions.py:589\u001b[0m, in \u001b[0;36mSession.request\u001b[0;34m(self, method, url, params, data, headers, cookies, files, auth, timeout, allow_redirects, proxies, hooks, stream, verify, cert, json)\u001b[0m\n\u001b[1;32m    584\u001b[0m send_kwargs \u001b[38;5;241m=\u001b[39m {\n\u001b[1;32m    585\u001b[0m     \u001b[38;5;124m\"\u001b[39m\u001b[38;5;124mtimeout\u001b[39m\u001b[38;5;124m\"\u001b[39m: timeout,\n\u001b[1;32m    586\u001b[0m     \u001b[38;5;124m\"\u001b[39m\u001b[38;5;124mallow_redirects\u001b[39m\u001b[38;5;124m\"\u001b[39m: allow_redirects,\n\u001b[1;32m    587\u001b[0m }\n\u001b[1;32m    588\u001b[0m send_kwargs\u001b[38;5;241m.\u001b[39mupdate(settings)\n\u001b[0;32m--> 589\u001b[0m resp \u001b[38;5;241m=\u001b[39m \u001b[38;5;28;43mself\u001b[39;49m\u001b[38;5;241;43m.\u001b[39;49m\u001b[43msend\u001b[49m\u001b[43m(\u001b[49m\u001b[43mprep\u001b[49m\u001b[43m,\u001b[49m\u001b[43m \u001b[49m\u001b[38;5;241;43m*\u001b[39;49m\u001b[38;5;241;43m*\u001b[39;49m\u001b[43msend_kwargs\u001b[49m\u001b[43m)\u001b[49m\n\u001b[1;32m    591\u001b[0m \u001b[38;5;28;01mreturn\u001b[39;00m resp\n",
      "File \u001b[0;32m~/projects/787win/env/lib/python3.12/site-packages/requests/sessions.py:697\u001b[0m, in \u001b[0;36mSession.send\u001b[0;34m(self, request, **kwargs)\u001b[0m\n\u001b[1;32m    694\u001b[0m hooks \u001b[38;5;241m=\u001b[39m request\u001b[38;5;241m.\u001b[39mhooks\n\u001b[1;32m    696\u001b[0m \u001b[38;5;66;03m# Get the appropriate adapter to use\u001b[39;00m\n\u001b[0;32m--> 697\u001b[0m adapter \u001b[38;5;241m=\u001b[39m \u001b[38;5;28;43mself\u001b[39;49m\u001b[38;5;241;43m.\u001b[39;49m\u001b[43mget_adapter\u001b[49m\u001b[43m(\u001b[49m\u001b[43murl\u001b[49m\u001b[38;5;241;43m=\u001b[39;49m\u001b[43mrequest\u001b[49m\u001b[38;5;241;43m.\u001b[39;49m\u001b[43murl\u001b[49m\u001b[43m)\u001b[49m\n\u001b[1;32m    699\u001b[0m \u001b[38;5;66;03m# Start time (approximately) of the request\u001b[39;00m\n\u001b[1;32m    700\u001b[0m start \u001b[38;5;241m=\u001b[39m preferred_clock()\n",
      "File \u001b[0;32m~/projects/787win/env/lib/python3.12/site-packages/requests/sessions.py:792\u001b[0m, in \u001b[0;36mSession.get_adapter\u001b[0;34m(self, url)\u001b[0m\n\u001b[1;32m    789\u001b[0m         \u001b[38;5;28;01mreturn\u001b[39;00m adapter\n\u001b[1;32m    791\u001b[0m \u001b[38;5;66;03m# Nothing matches :-/\u001b[39;00m\n\u001b[0;32m--> 792\u001b[0m \u001b[38;5;28;01mraise\u001b[39;00m InvalidSchema(\u001b[38;5;124mf\u001b[39m\u001b[38;5;124m\"\u001b[39m\u001b[38;5;124mNo connection adapters were found for \u001b[39m\u001b[38;5;132;01m{\u001b[39;00murl\u001b[38;5;132;01m!r}\u001b[39;00m\u001b[38;5;124m\"\u001b[39m)\n",
      "\u001b[0;31mInvalidSchema\u001b[0m: No connection adapters were found for 'file:///home/steve/projects/787win/crewai/data/players.db'"
     ]
    }
   ],
   "source": [
    "!pip install vanna\n",
    "\n",
    "from vanna.remote import VannaDefault\n",
    "vn = VannaDefault(model='kwakmodel', api_key='c267726a145a40db894425294a0d7fee')\n",
    "vn.connect_to_sqlite('file:///home/steve/projects/787win/crewai/data/players.db') # Connect to your database here\n",
    "\n",
    "from vanna.flask import VannaFlaskApp\n",
    "VannaFlaskApp(vn).run()\n"
   ]
  }
 ],
 "metadata": {
  "kernelspec": {
   "display_name": "env",
   "language": "python",
   "name": "python3"
  },
  "language_info": {
   "codemirror_mode": {
    "name": "ipython",
    "version": 3
   },
   "file_extension": ".py",
   "mimetype": "text/x-python",
   "name": "python",
   "nbconvert_exporter": "python",
   "pygments_lexer": "ipython3",
   "version": "3.12.4"
  }
 },
 "nbformat": 4,
 "nbformat_minor": 2
}
